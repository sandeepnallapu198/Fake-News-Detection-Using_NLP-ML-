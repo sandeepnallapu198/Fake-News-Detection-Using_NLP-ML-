{
 "cells": [
  {
   "cell_type": "code",
   "execution_count": 32,
   "id": "8de6da1d",
   "metadata": {},
   "outputs": [],
   "source": [
    "import matplotlib.pyplot as plt\n",
    "import seaborn as sns\n",
    "import pandas as pd\n",
    "import re"
   ]
  },
  {
   "cell_type": "code",
   "execution_count": 33,
   "id": "3d6b8527",
   "metadata": {},
   "outputs": [
    {
     "data": {
      "text/html": [
       "<div>\n",
       "<style scoped>\n",
       "    .dataframe tbody tr th:only-of-type {\n",
       "        vertical-align: middle;\n",
       "    }\n",
       "\n",
       "    .dataframe tbody tr th {\n",
       "        vertical-align: top;\n",
       "    }\n",
       "\n",
       "    .dataframe thead th {\n",
       "        text-align: right;\n",
       "    }\n",
       "</style>\n",
       "<table border=\"1\" class=\"dataframe\">\n",
       "  <thead>\n",
       "    <tr style=\"text-align: right;\">\n",
       "      <th></th>\n",
       "      <th>Unnamed: 0</th>\n",
       "      <th>title</th>\n",
       "      <th>text</th>\n",
       "      <th>label</th>\n",
       "    </tr>\n",
       "  </thead>\n",
       "  <tbody>\n",
       "    <tr>\n",
       "      <th>0</th>\n",
       "      <td>8476</td>\n",
       "      <td>You Can Smell Hillary’s Fear</td>\n",
       "      <td>Daniel Greenfield, a Shillman Journalism Fello...</td>\n",
       "      <td>FAKE</td>\n",
       "    </tr>\n",
       "    <tr>\n",
       "      <th>1</th>\n",
       "      <td>10294</td>\n",
       "      <td>Watch The Exact Moment Paul Ryan Committed Pol...</td>\n",
       "      <td>Google Pinterest Digg Linkedin Reddit Stumbleu...</td>\n",
       "      <td>FAKE</td>\n",
       "    </tr>\n",
       "    <tr>\n",
       "      <th>2</th>\n",
       "      <td>3608</td>\n",
       "      <td>Kerry to go to Paris in gesture of sympathy</td>\n",
       "      <td>U.S. Secretary of State John F. Kerry said Mon...</td>\n",
       "      <td>REAL</td>\n",
       "    </tr>\n",
       "    <tr>\n",
       "      <th>3</th>\n",
       "      <td>10142</td>\n",
       "      <td>Bernie supporters on Twitter erupt in anger ag...</td>\n",
       "      <td>— Kaydee King (@KaydeeKing) November 9, 2016 T...</td>\n",
       "      <td>FAKE</td>\n",
       "    </tr>\n",
       "    <tr>\n",
       "      <th>4</th>\n",
       "      <td>875</td>\n",
       "      <td>The Battle of New York: Why This Primary Matters</td>\n",
       "      <td>It's primary day in New York and front-runners...</td>\n",
       "      <td>REAL</td>\n",
       "    </tr>\n",
       "  </tbody>\n",
       "</table>\n",
       "</div>"
      ],
      "text/plain": [
       "   Unnamed: 0                                              title  \\\n",
       "0        8476                       You Can Smell Hillary’s Fear   \n",
       "1       10294  Watch The Exact Moment Paul Ryan Committed Pol...   \n",
       "2        3608        Kerry to go to Paris in gesture of sympathy   \n",
       "3       10142  Bernie supporters on Twitter erupt in anger ag...   \n",
       "4         875   The Battle of New York: Why This Primary Matters   \n",
       "\n",
       "                                                text label  \n",
       "0  Daniel Greenfield, a Shillman Journalism Fello...  FAKE  \n",
       "1  Google Pinterest Digg Linkedin Reddit Stumbleu...  FAKE  \n",
       "2  U.S. Secretary of State John F. Kerry said Mon...  REAL  \n",
       "3  — Kaydee King (@KaydeeKing) November 9, 2016 T...  FAKE  \n",
       "4  It's primary day in New York and front-runners...  REAL  "
      ]
     },
     "execution_count": 33,
     "metadata": {},
     "output_type": "execute_result"
    }
   ],
   "source": [
    "data  = pd.read_csv(\"C:\\\\Users\\\\HAI\\\\Downloads\\\\fake_or_real_news.csv\")\n",
    "data.head()"
   ]
  },
  {
   "cell_type": "code",
   "execution_count": 34,
   "id": "18350c95",
   "metadata": {},
   "outputs": [
    {
     "data": {
      "text/plain": [
       "(6335, 4)"
      ]
     },
     "execution_count": 34,
     "metadata": {},
     "output_type": "execute_result"
    }
   ],
   "source": [
    "data.shape"
   ]
  },
  {
   "cell_type": "code",
   "execution_count": 35,
   "id": "56623d64",
   "metadata": {},
   "outputs": [
    {
     "data": {
      "text/plain": [
       "['Unnamed: 0', 'title', 'text', 'label']"
      ]
     },
     "execution_count": 35,
     "metadata": {},
     "output_type": "execute_result"
    }
   ],
   "source": [
    "list(data.columns)"
   ]
  },
  {
   "cell_type": "code",
   "execution_count": 36,
   "id": "8b1f129a",
   "metadata": {},
   "outputs": [
    {
     "name": "stdout",
     "output_type": "stream",
     "text": [
      "<class 'pandas.core.frame.DataFrame'>\n",
      "RangeIndex: 6335 entries, 0 to 6334\n",
      "Data columns (total 4 columns):\n",
      " #   Column      Non-Null Count  Dtype \n",
      "---  ------      --------------  ----- \n",
      " 0   Unnamed: 0  6335 non-null   int64 \n",
      " 1   title       6335 non-null   object\n",
      " 2   text        6335 non-null   object\n",
      " 3   label       6335 non-null   object\n",
      "dtypes: int64(1), object(3)\n",
      "memory usage: 198.1+ KB\n"
     ]
    }
   ],
   "source": [
    "data.info()"
   ]
  },
  {
   "cell_type": "code",
   "execution_count": 37,
   "id": "c49b4e46",
   "metadata": {},
   "outputs": [
    {
     "data": {
      "text/plain": [
       "Unnamed: 0    0\n",
       "title         0\n",
       "text          0\n",
       "label         0\n",
       "dtype: int64"
      ]
     },
     "execution_count": 37,
     "metadata": {},
     "output_type": "execute_result"
    }
   ],
   "source": [
    "data.isna().sum()"
   ]
  },
  {
   "cell_type": "code",
   "execution_count": 38,
   "id": "2efe1d03",
   "metadata": {},
   "outputs": [
    {
     "data": {
      "text/plain": [
       "0"
      ]
     },
     "execution_count": 38,
     "metadata": {},
     "output_type": "execute_result"
    }
   ],
   "source": [
    "data.duplicated().sum()"
   ]
  },
  {
   "cell_type": "code",
   "execution_count": 39,
   "id": "798ebd45",
   "metadata": {},
   "outputs": [
    {
     "name": "stderr",
     "output_type": "stream",
     "text": [
      "C:\\Users\\HAI\\anaconda3\\lib\\site-packages\\seaborn\\_decorators.py:36: FutureWarning: Pass the following variable as a keyword arg: x. From version 0.12, the only valid positional argument will be `data`, and passing other arguments without an explicit keyword will result in an error or misinterpretation.\n",
      "  warnings.warn(\n"
     ]
    },
    {
     "data": {
      "text/plain": [
       "<AxesSubplot:xlabel='label', ylabel='count'>"
      ]
     },
     "execution_count": 39,
     "metadata": {},
     "output_type": "execute_result"
    },
    {
     "data": {
      "image/png": "[encoded data removed]",
      "text/plain": [
       "<Figure size 640x480 with 1 Axes>"
      ]
     },
     "metadata": {},
     "output_type": "display_data"
    }
   ],
   "source": [
    "sns.countplot(data['label'])"
   ]
  },
  {
   "cell_type": "code",
   "execution_count": 40,
   "id": "4e8dff58",
   "metadata": {},
   "outputs": [],
   "source": [
    "data_text_process = data['text'].map(lambda x: re.sub('(Reuters)',\"\",x))\n",
    "data_text_process = data_text_process.map(lambda x: re.sub('[^A-Za-z0-9]+',\"\",x))\n",
    "data_text_process = data_text_process.map(lambda x: x.lower())                                                                    "
   ]
  },
  {
   "cell_type": "code",
   "execution_count": 41,
   "id": "3c33af42",
   "metadata": {},
   "outputs": [
    {
     "data": {
      "text/plain": [
       "0       danielgreenfieldashillmanjournalismfellowatthe...\n",
       "1       googlepinterestdigglinkedinredditstumbleuponpr...\n",
       "2       ussecretaryofstatejohnfkerrysaidmondaythathewi...\n",
       "3       kaydeekingkaydeekingnovember92016thelessonfrom...\n",
       "4       itsprimarydayinnewyorkandfrontrunnershillarycl...\n",
       "                              ...                        \n",
       "6330    thestatedepartmenttoldtherepublicannationalcom...\n",
       "6331    thepinpbsshouldstandforplutocraticorpentagonpo...\n",
       "6332    antitrumpprotestersaretoolsoftheoligarchyrefor...\n",
       "6333    addisababaethiopiapresidentobamaconvenedameeti...\n",
       "6334    jebbushissuddenlyattackingtrumphereswhythatmat...\n",
       "Name: text, Length: 6335, dtype: object"
      ]
     },
     "execution_count": 41,
     "metadata": {},
     "output_type": "execute_result"
    }
   ],
   "source": [
    "data_text_process"
   ]
  },
  {
   "cell_type": "code",
   "execution_count": 42,
   "id": "c2ae25c7",
   "metadata": {},
   "outputs": [
    {
     "name": "stderr",
     "output_type": "stream",
     "text": [
      "[nltk_data] Downloading package wordnet to\n",
      "[nltk_data]     C:\\Users\\HAI\\AppData\\Roaming\\nltk_data...\n",
      "[nltk_data]   Package wordnet is already up-to-date!\n"
     ]
    }
   ],
   "source": [
    "import nltk\n",
    "nltk.download('wordnet')\n",
    "from nltk.stem import WordNetLemmatizer\n",
    "def lemmatize(text):\n",
    "    lm = WordNetLemmatizer()\n",
    "    tokens = [lm.lemmatize(word) for word in text.split()]\n",
    "    return \" \".join(tokens)"
   ]
  },
  {
   "cell_type": "code",
   "execution_count": 43,
   "id": "d2ccfd58",
   "metadata": {},
   "outputs": [
    {
     "data": {
      "text/plain": [
       "'danielgreenfieldashillmanjournalismfellowatthefreedomcenterisanewyorkwriterfocusingonradicalislaminthefinalstretchoftheelectionhillaryrodhamclintonhasgonetowarwiththefbithewordunprecedentedhasbeenthrownaroundsooftenthiselectionthatitoughttoberetiredbutitsstillunprecedentedforthenomineeofamajorpoliticalpartytogowarwiththefbibutthatsexactlywhathillaryandherpeoplehavedonecomapatientsjustwakingupnowandwatchinganhourofcnnfromtheirhospitalbedswouldassumethatfbidirectorjamescomeyishillarysopponentinthiselectionthefbiisunderattackbyeveryonefromobamatocnnhillaryspeoplehavecirculatedaletterattackingcomeytherearecurrentlymoremediahitpieceslambastinghimthantargetingtrumpitwouldntbetoosurprisingiftheclintonsortheiralliesweretostartrunningattackadsagainstthefbithefbisleadershipisbeingwarnedthattheentireleftwingestablishmentwillformalynchmobiftheycontinuegoingafterhillaryandthefbiscredibilityisbeingattackedbythemediaandthedemocratstopreemptivelyheadofftheresultsoftheinvestigationoftheclintonfoundationandhillaryclintonthecovertstrugglebetweenfbiagentsandobamasdojpeoplehasgoneexplosivelypublicthenewyorktimeshascomparedcomeytojedgarhooveritsbizarreheadlinejamescomeyrolerecallshooversfbifairlyornotpracticallyadmitsupfrontthatitsspoutingnonsensethebostonglobehaspublishedacolumncallingforcomeysresignationnottobeoutdonetimehasaneditorialclaimingthatthescandalisreallyanattackonallwomenjamescarvilleappearedonmsnbctoremindeveryonethathewasstillaliveandinsaneheaccusedcomeyofcoordinatingwithhouserepublicansandthekgbandyouthoughtthevastrightwingconspiracywasastretchcountlessmediastorieschargecomeywithviolatingproceduredoyouknowwhatsaproceduralviolationemailingclassifiedinformationstoredonyourbathroomserversenatorharryreidhassentcomeyaletteraccusinghimofviolatingthehatchactthehatchactisaniceideathathasasmuchrelevanceintheageofobamaasthetenthamendmentbutthecablenewsspectrumquicklyfilledwithmediahacksglancingatthewikipediaarticleonthehatchactunderthetablewhileaccusingthefbidirectorofoneofthemostawkwardconspiraciesagainsthillaryeverifjamescomeyisreallyouttohurthillaryhepickedonehellofastrangewaytodoitnottoolongagodemocratswerebreathingasighofreliefwhenhegavehillaryclintonapassinaprominentpublicstatementifhereallywereouttoelecttrumpbykeepingtheemailscandalgoingwhydidhetrashtheinvestigationwasheonthepayrollofhouserepublicansandthekgbbackthenandplayingitcoyorwasitasuddendevelopmentwherevladimirputinandpaulryantalkedhimintotakingalookatanthonyweinerscomputereithercomeyisthemostcunningfbidirectorthateverlivedorhesjustawkwardlytryingtonavigateapoliticalmessthathastrappedhimbetweenadojleadershipwhosepoliticalfuturesaretiedtohillarysvictoryandhisownbureauwhoseapoliticalagentsjustwanttobeallowedtodotheirjobstheonlytrulymysteriousthingiswhyhillaryandherassociatesdecidedtogotowarwitharespectedfederalagencymostamericanslikethefbiwhilehillaryclintonenjoysa60unfavorableratinganditsaninterestingquestionhillarysoldstrategywastolieanddenythatthefbievenhadacriminalinvestigationunderwayinsteadherassociatesinsistedthatitwasasecurityreviewthefbicorrectedherandsheshruggeditoffbuttheoldbreezydenialapproachhasgivenwaytoasavageassaultonthefbipretendingthatnothingwaswrongwasabadstrategybutitwasabetteronethatpickingafightwiththefbiwhilelunaticclintonassociatestrytoclaimthatthefbiisreallythekgbtherearetwopossibleexplanationshillaryclintonmightbearrogantenoughtolashoutatthefbinowthatshebelievesthatvictoryisnearthesamekindofhubristhatledhertoplanhervictoryfireworksdisplaycouldleadhertodeclareawaronthefbiforirritatingherduringthefinalmilesofhercampaignbuttheotherexplanationisthatherpeoplepanickedgoingtowarwiththefbiisnotthebehaviorofasmartandfocusedpresidentialcampaignitsanactofdesperationwhenapresidentialcandidatedecidesthatheronlyoptionistotryanddestroythecredibilityofthefbithatsnothubrisitsfearofwhatthefbimightbeabouttorevealaboutherduringtheoriginalfbiinvestigationhillaryclintonwasconfidentthatshecouldrideitoutandshehadgoodreasonforbelievingthatbutthathillaryclintonisgoneinherplaceisaparanoidwreckwithinashortspaceoftimethepositiveclintoncampaignpromisingtounitethecountryhasbeenreplacedbyadesperateandflailingoperationthathasfocusedallitsenergyonfightingthefbitheresonlyonereasonforsuchbizarrebehaviortheclintoncampaignhasdecidedthatanfbiinvestigationofthelatestbatchofemailsposesathreattoitssurvivalandsoitsgoneallinonfightingthefbiitsanunprecedentedstepbornoffearitshardtoknowwhetherthatfearisjustifiedbuttheexistenceofthatfearalreadytellsusawholelotclintonloyalistsriggedtheoldinvestigationtheyknewtheoutcomeaheadoftimeaswellastheyknewthedebatequestionsnowsuddenlytheyarenolongerincontrolandtheyareafraidyoucansmellthefearthefbihaswiretapsfromtheinvestigationoftheclintonfoundationitsfindingnewemailsallthetimeandclintonworldpanickedthespinmeistersofclintonworldhaveclaimedthattheemailscandalisjustsomuchsmokewithoutfireallthatshereistheappearanceofimproprietywithoutanyofthesubstancebutthisisnthowyoureacttosmokeitshowyourespondtoafirethemisguidedassaultonthefbitellsusthathillaryclintonandheralliesareafraidofarevelationbiggerthanthefundamentalillegalityofheremailsetuptheemailsetupwasapreemptivecoveruptheclintoncampaignhaspanickedbadlyoutofthebeliefrightorwrongthatwhatevercrimetheillegalsetupwasmeanttocoverupisatriskofbeingexposedtheclintonshaveweatheredcountlessscandalsovertheyearswhatevertheyareprotectingthistimearoundisbiggerthantheusualcorruptionbriberysexualassaultsandabusesofpowerthathavefollowedthemaroundthroughouttheyearsthisisbiggerandmoredamagingthananyoftheallegationsthathavealreadycomeoutandtheydontwantfbiinvestigatorsanywherenearitthecampaignagainstcomeyispureintimidationitsalsoawarninganyseniorfbipeoplewhovaluetheircareersarebeingwarnedtostayawaythedemocratsareclosingranksaroundtheirnomineeagainstthefbiitsanuglyandunprecedentedsceneitmayalsobetheirlaststandhillaryclintonhasawkwardlywoundherwaythroughnumerousscandalsinjustthiselectioncyclebutshesnevershownfearordesperationbeforenowthathaschangedwhateversheisafraidofitliesburiedinheremailswithhumaabedinanditcanbringherdownlikenothingelsehas'"
      ]
     },
     "execution_count": 43,
     "metadata": {},
     "output_type": "execute_result"
    }
   ],
   "source": [
    "lemmatize(data_text_process [0])"
   ]
  },
  {
   "cell_type": "code",
   "execution_count": 44,
   "id": "3c7b2f13",
   "metadata": {},
   "outputs": [],
   "source": [
    "data_text_process = data_text_process.apply(lemmatize)"
   ]
  },
  {
   "cell_type": "code",
   "execution_count": 45,
   "id": "d23e5652",
   "metadata": {},
   "outputs": [
    {
     "data": {
      "text/plain": [
       "0    Daniel Greenfield, a Shillman Journalism Fello...\n",
       "1    Google Pinterest Digg Linkedin Reddit Stumbleu...\n",
       "2    U.S. Secretary of State John F. Kerry said Mon...\n",
       "3    — Kaydee King (@KaydeeKing) November 9, 2016 T...\n",
       "4    It's primary day in New York and front-runners...\n",
       "Name: text, dtype: object"
      ]
     },
     "execution_count": 45,
     "metadata": {},
     "output_type": "execute_result"
    }
   ],
   "source": [
    "x = data['text']\n",
    "y = data.label\n",
    "x.head()"
   ]
  },
  {
   "cell_type": "code",
   "execution_count": 46,
   "id": "bd24342e",
   "metadata": {},
   "outputs": [
    {
     "name": "stdout",
     "output_type": "stream",
     "text": [
      "(4244,)\n"
     ]
    }
   ],
   "source": [
    "from sklearn.model_selection import train_test_split\n",
    "x_train,x_test,y_train,y_test = train_test_split(x,y,test_size = 0.33,random_state = 53)\n",
    "print(x_train.shape)"
   ]
  },
  {
   "cell_type": "code",
   "execution_count": 47,
   "id": "70b5377f",
   "metadata": {},
   "outputs": [],
   "source": [
    "from sklearn.feature_extraction.text import TfidfVectorizer\n",
    "Tfid = TfidfVectorizer(stop_words = 'english',max_df = 0.7)\n",
    "x_train = Tfid.fit_transform(x_train)\n",
    "x_test = Tfid.transform(x_test)"
   ]
  },
  {
   "cell_type": "code",
   "execution_count": 22,
   "id": "b223b855",
   "metadata": {},
   "outputs": [],
   "source": [
    "from sklearn.metrics import accuracy_score,classification_report,confusion_matrix\n",
    "from sklearn.model_selection import cross_val_score"
   ]
  },
  {
   "cell_type": "code",
   "execution_count": 26,
   "id": "5628dd59",
   "metadata": {},
   "outputs": [
    {
     "name": "stdout",
     "output_type": "stream",
     "text": [
      "accuracy_score:91.391679\n",
      "val_score:0.906684\n",
      "              precision    recall  f1-score   support\n",
      "\n",
      "        FAKE       0.88      0.95      0.91      1008\n",
      "        REAL       0.95      0.88      0.91      1083\n",
      "\n",
      "    accuracy                           0.91      2091\n",
      "   macro avg       0.92      0.92      0.91      2091\n",
      "weighted avg       0.92      0.91      0.91      2091\n",
      "\n",
      "[[962  46]\n",
      " [134 949]]\n"
     ]
    },
    {
     "data": {
      "image/png": "[encoded data removed]",
      "text/plain": [
       "<Figure size 640x480 with 2 Axes>"
      ]
     },
     "metadata": {},
     "output_type": "display_data"
    }
   ],
   "source": [
    "from sklearn.linear_model import LogisticRegression\n",
    "\n",
    "LR = LogisticRegression()\n",
    "LR.fit(x_train,y_train)\n",
    "pred = LR.predict(x_test)\n",
    "\n",
    "print('accuracy_score:%2f'% (accuracy_score(y_test,pred)*100))\n",
    "cv_results = cross_val_score(LR,x_train,y_train,cv = 10,scoring = 'accuracy')\n",
    "print('val_score:%2f'% (cv_results.mean()))\n",
    "\n",
    "\n",
    "print(classification_report(y_test,pred))\n",
    "\n",
    "cm = confusion_matrix(y_test,pred)\n",
    "sns.heatmap(cm,annot = True)\n",
    "\n",
    "print(cm)\n",
    "\n",
    "\n"
   ]
  },
  {
   "cell_type": "code",
   "execution_count": 29,
   "id": "5866ce9c",
   "metadata": {},
   "outputs": [
    {
     "name": "stdout",
     "output_type": "stream",
     "text": [
      "accuracy_score:80.918221\n",
      "val_score:0.799483\n",
      "              precision    recall  f1-score   support\n",
      "\n",
      "        FAKE       0.80      0.80      0.80      1008\n",
      "        REAL       0.82      0.82      0.82      1083\n",
      "\n",
      "    accuracy                           0.81      2091\n",
      "   macro avg       0.81      0.81      0.81      2091\n",
      "weighted avg       0.81      0.81      0.81      2091\n",
      "\n",
      "[[808 200]\n",
      " [199 884]]\n"
     ]
    },
    {
     "data": {
      "image/png": "[encoded data removed]",
      "text/plain": [
       "<Figure size 640x480 with 2 Axes>"
      ]
     },
     "metadata": {},
     "output_type": "display_data"
    }
   ],
   "source": [
    "from sklearn.tree import DecisionTreeClassifier\n",
    "\n",
    "DC = DecisionTreeClassifier()\n",
    "DC.fit(x_train,y_train)\n",
    "pred = DC.predict(x_test)\n",
    "print('accuracy_score:%2f'% (accuracy_score(y_test,pred)*100))\n",
    "cv_results = cross_val_score(DC,x_train,y_train,cv = 10,scoring = 'accuracy')\n",
    "print('val_score:%2f'% (cv_results.mean()))\n",
    "\n",
    "\n",
    "print(classification_report(y_test,pred))\n",
    "\n",
    "cm = confusion_matrix(y_test,pred)\n",
    "sns.heatmap(cm,annot = True)\n",
    "\n",
    "print(cm)\n",
    "\n"
   ]
  },
  {
   "cell_type": "code",
   "execution_count": 28,
   "id": "bc9674f1",
   "metadata": {},
   "outputs": [
    {
     "name": "stdout",
     "output_type": "stream",
     "text": [
      "accuracy_score:90.100430\n",
      "val_score:0.903391\n",
      "              precision    recall  f1-score   support\n",
      "\n",
      "        FAKE       0.88      0.91      0.90      1008\n",
      "        REAL       0.92      0.89      0.90      1083\n",
      "\n",
      "    accuracy                           0.90      2091\n",
      "   macro avg       0.90      0.90      0.90      2091\n",
      "weighted avg       0.90      0.90      0.90      2091\n",
      "\n",
      "[[922  86]\n",
      " [121 962]]\n"
     ]
    },
    {
     "data": {
      "image/png": "[encoded data removed]",
      "text/plain": [
       "<Figure size 640x480 with 2 Axes>"
      ]
     },
     "metadata": {},
     "output_type": "display_data"
    }
   ],
   "source": [
    "from sklearn.ensemble import RandomForestClassifier\n",
    "\n",
    "RF = RandomForestClassifier()\n",
    "RF.fit(x_train,y_train)\n",
    "pred = RF.predict(x_test)\n",
    "\n",
    "print('accuracy_score:%2f'% (accuracy_score(y_test,pred)*100))\n",
    "cv_results = cross_val_score(RF,x_train,y_train,cv = 10,scoring = 'accuracy')\n",
    "print('val_score:%2f'% (cv_results.mean()))\n",
    "\n",
    "\n",
    "print(classification_report(y_test,pred))\n",
    "\n",
    "cm = confusion_matrix(y_test,pred)\n",
    "sns.heatmap(cm,annot = True)\n",
    "\n",
    "print(cm)\n",
    "\n"
   ]
  },
  {
   "cell_type": "code",
   "execution_count": 30,
   "id": "c7491553",
   "metadata": {},
   "outputs": [
    {
     "name": "stdout",
     "output_type": "stream",
     "text": [
      "accuracy_score:85.652798\n",
      "val_score:0.852501\n",
      "              precision    recall  f1-score   support\n",
      "\n",
      "        FAKE       0.96      0.73      0.83      1008\n",
      "        REAL       0.80      0.97      0.88      1083\n",
      "\n",
      "    accuracy                           0.86      2091\n",
      "   macro avg       0.88      0.85      0.85      2091\n",
      "weighted avg       0.88      0.86      0.85      2091\n",
      "\n",
      "[[ 739  269]\n",
      " [  31 1052]]\n"
     ]
    },
    {
     "data": {
      "image/png": "[encoded data removed]",
      "text/plain": [
       "<Figure size 640x480 with 2 Axes>"
      ]
     },
     "metadata": {},
     "output_type": "display_data"
    }
   ],
   "source": [
    "from sklearn.naive_bayes import MultinomialNB\n",
    "\n",
    "NB = MultinomialNB()\n",
    "NB.fit(x_train,y_train)\n",
    "pred = NB.predict(x_test)\n",
    "\n",
    "print('accuracy_score:%2f'% (accuracy_score(y_test,pred)*100))\n",
    "cv_results = cross_val_score(NB,x_train,y_train,cv = 10,scoring = 'accuracy')\n",
    "print('val_score:%2f'% (cv_results.mean()))\n",
    "\n",
    "\n",
    "print(classification_report(y_test,pred))\n",
    "\n",
    "cm = confusion_matrix(y_test,pred)\n",
    "sns.heatmap(cm,annot = True)\n",
    "\n",
    "print(cm)\n",
    "\n"
   ]
  },
  {
   "cell_type": "code",
   "execution_count": 31,
   "id": "deeaac33",
   "metadata": {},
   "outputs": [
    {
     "name": "stdout",
     "output_type": "stream",
     "text": [
      "accuracy_score:93.495935\n",
      "val_score:0.939911\n",
      "              precision    recall  f1-score   support\n",
      "\n",
      "        FAKE       0.92      0.95      0.93      1008\n",
      "        REAL       0.95      0.93      0.94      1083\n",
      "\n",
      "    accuracy                           0.93      2091\n",
      "   macro avg       0.93      0.94      0.93      2091\n",
      "weighted avg       0.94      0.93      0.93      2091\n",
      "\n",
      "[[ 953   55]\n",
      " [  81 1002]]\n"
     ]
    },
    {
     "data": {
      "image/png": "[encoded data removed]",
      "text/plain": [
       "<Figure size 640x480 with 2 Axes>"
      ]
     },
     "metadata": {},
     "output_type": "display_data"
    }
   ],
   "source": [
    "from sklearn.linear_model import PassiveAggressiveClassifier\n",
    "\n",
    "PC = PassiveAggressiveClassifier()\n",
    "PC.fit(x_train,y_train)\n",
    "pred =  PC.predict(x_test)\n",
    "\n",
    "print('accuracy_score:%2f'% (accuracy_score(y_test,pred)*100))\n",
    "cv_results = cross_val_score(PC,x_train,y_train,cv = 10,scoring = 'accuracy')\n",
    "print('val_score:%2f'% (cv_results.mean()))\n",
    "\n",
    "\n",
    "print(classification_report(y_test,pred))\n",
    "\n",
    "cm = confusion_matrix(y_test,pred)\n",
    "sns.heatmap(cm,annot = True)\n",
    "\n",
    "print(cm)\n",
    "\n"
   ]
  },
  {
   "cell_type": "code",
   "execution_count": null,
   "id": "96bf9c49",
   "metadata": {},
   "outputs": [],
   "source": []
  }
 ],
 "metadata": {
  "kernelspec": {
   "display_name": "Python 3 (ipykernel)",
   "language": "python",
   "name": "python3"
  },
  "language_info": {
   "codemirror_mode": {
    "name": "ipython",
    "version": 3
   },
   "file_extension": ".py",
   "mimetype": "text/x-python",
   "name": "python",
   "nbconvert_exporter": "python",
   "pygments_lexer": "ipython3",
   "version": "3.9.13"
  }
 },
 "nbformat": 4,
 "nbformat_minor": 5
}
